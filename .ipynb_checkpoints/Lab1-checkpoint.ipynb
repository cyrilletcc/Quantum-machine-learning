{
 "cells": [
  {
   "cell_type": "markdown",
   "metadata": {},
   "source": [
    "# Lab 1: Fair and Biased Coin Flip"
   ]
  },
  {
   "cell_type": "markdown",
   "metadata": {},
   "source": [
    "One of the powers of quantum is that we can easily generate coin flips by coding a simple circuit and measuring the probabilities of our qubit states. Let's assign a 'Heads' coin flip to our qubit outcome '0' and assign a 'Tails' flip to our qubit outcome '1'. In this lab, we will construct quantum circuit that create a fair 50-50 distribution, a 70-30 biased distrubtion, and a 0-100 completely biased distribution. Before trying the labs yourself, please make use of the Pyquil helper notation below! "
   ]
  },
  {
   "cell_type": "markdown",
   "metadata": {},
   "source": [
    "## Necessary Imports"
   ]
  },
  {
   "cell_type": "code",
   "execution_count": 2,
   "metadata": {},
   "outputs": [],
   "source": [
    "#load the necessary packages and libraries\n",
    "from pyquil.quil import Program\n",
    "import pyquil.api as api\n",
    "from pyquil.gates import *\n",
    "import matplotlib.pyplot as plt\n",
    "from random import *\n",
    "import numpy as np\n",
    "import math\n",
    "import matplotlib.pyplot as plt\n",
    "\n",
    "qvm = api.QVMConnection()  "
   ]
  },
  {
   "cell_type": "markdown",
   "metadata": {},
   "source": [
    "## Pyquil Notation Tricks "
   ]
  },
  {
   "cell_type": "code",
   "execution_count": 2,
   "metadata": {},
   "outputs": [],
   "source": [
    "n_qubits = 1 #Sets the number of qubits or coin flips \n",
    "\n",
    "theta = math.pi #Sets the 1-qubit gate rotation angle theta to pi\n",
    "\n",
    "main_program = Program() #Creates a quantum circuit program \n",
    "\n",
    "main_program += H(0) #Performs a Hadamard Gate on the 0th qubit \n",
    "\n",
    "main_program += X(0) #Performs a Not Gate on the 0th qubit \n",
    "\n",
    "main_program += CNOT(0,1) #Performs a Controlled-Not Gate with 0th qubit as the control and the 1st qubit as the target\n",
    "\n",
    "main_program += RZ(theta, 0) #Performs a Pauli Z Rotation by angle theta on the 0th qubit \n",
    "\n",
    "main_program += RX(theta, 0) #Performs a Pauli X Rotation by angle theta on the 0th qubit \n",
    "\n",
    "main_program += RY(theta, 0) #Performs a Pauli Y Rotation by angle theta on the 0th qubit \n",
    "\n",
    "wave_function =  qvm.wavefunction(main_program) #Get the output quantum circuit wavefunction\n",
    "\n",
    "probs_dist    =  wave_function.get_outcome_probs()  #Get the probability distribution"
   ]
  },
  {
   "cell_type": "markdown",
   "metadata": {},
   "source": [
    "## Circuit 1: Fair Coin"
   ]
  },
  {
   "cell_type": "markdown",
   "metadata": {},
   "source": [
    "In order to generate a fair coin distribution, we want the probability of getting a 'Heads' to be the same as the probability of getting a 'Tails'. "
   ]
  },
  {
   "cell_type": "code",
   "execution_count": 3,
   "metadata": {},
   "outputs": [
    {
     "name": "stdout",
     "output_type": "stream",
     "text": [
      "{'0': 0.4999999999999999, '1': 0.4999999999999999}\n"
     ]
    }
   ],
   "source": [
    "main_program = Program() #Creates a quantum circuit program \n",
    "for i in range(n_qubits): \n",
    "    main_program += H(i) #Performs a Hadamard Gate on the ith qubit \n",
    "wave_function =  qvm.wavefunction(main_program) #Get the output quantum circuit wavefunction\n",
    "probs_dist    =  wave_function.get_outcome_probs()  #Get the probability distribution\n",
    "print(probs_dist)"
   ]
  },
  {
   "attachments": {
    "343bbd3a-24c4-448e-898c-4785ac497e83.png": {
     "image/png": "[encoded data removed]"
    }
   },
   "cell_type": "markdown",
   "metadata": {},
   "source": [
    "![Screen Shot 2020-10-15 at 9.14.41 PM.png](attachment:343bbd3a-24c4-448e-898c-4785ac497e83.png)"
   ]
  },
  {
   "cell_type": "markdown",
   "metadata": {},
   "source": [
    "## Exercise: Circuit 2: 70-30 Biased Coin"
   ]
  },
  {
   "cell_type": "markdown",
   "metadata": {},
   "source": [
    "In order to generate a 70-30 biased coin distribution, we want the probability of getting a 'Heads' to be 0.7 and the probability of getting a 'Tails' to be 0.3. In order to find the apropriate angle for our rotation, we need to do a bit of a guess and check. Have a try!  "
   ]
  },
  {
   "cell_type": "code",
   "execution_count": null,
   "metadata": {},
   "outputs": [],
   "source": [
    "main_program = Program() #Creates a quantum circuit program\n",
    "\n",
    "# Your code here\n",
    "# Hint: The Hadamard gate won't help, you may need an RX or RY gate with a certain angle"
   ]
  },
  {
   "cell_type": "markdown",
   "metadata": {},
   "source": [
    "## Exercise: Circuit 3: 0-100 Biased Coin"
   ]
  },
  {
   "cell_type": "markdown",
   "metadata": {},
   "source": [
    "In order to generate a 0-100 biased coin distribution, we want the probability of getting a 'Heads' to be 0 and the probability of getting a 'Tails' to be 1."
   ]
  },
  {
   "cell_type": "code",
   "execution_count": 10,
   "metadata": {},
   "outputs": [],
   "source": [
    "main_program = Program() #Creates a quantum circuit program \n",
    "\n",
    "# Your code here\n",
    "# Hint: You can use an RX or RY gate with a particular angle, but there may be an easier way with a simpler gate!"
   ]
  },
  {
   "cell_type": "code",
   "execution_count": null,
   "metadata": {},
   "outputs": [],
   "source": []
  }
 ],
 "metadata": {
  "kernelspec": {
   "display_name": "Python 3",
   "language": "python",
   "name": "python3"
  },
  "language_info": {
   "codemirror_mode": {
    "name": "ipython",
    "version": 3
   },
   "file_extension": ".py",
   "mimetype": "text/x-python",
   "name": "python",
   "nbconvert_exporter": "python",
   "pygments_lexer": "ipython3",
   "version": "3.7.6"
  }
 },
 "nbformat": 4,
 "nbformat_minor": 4
}

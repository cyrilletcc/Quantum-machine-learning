{
 "cells": [
  {
   "cell_type": "markdown",
   "metadata": {},
   "source": [
    "# Lab 3: Entangle More Qubits Solution "
   ]
  },
  {
   "cell_type": "markdown",
   "metadata": {},
   "source": [
    "An additional power of quantum is that we can entangle two particles or pieces of information together such that having the knowledge of one piece will provide us with knowledge about the other. There are different ways in which we can generate entanglement using quantum gates, but the one requirement is that we utilize two-qubit gates. These gates are actually difficult to implement physically and therefore, remain a limitation of near-term quantum computing. Thus, it is important that we find ways to create short depth circuits that use less two-qubit gates. \n",
    "\n",
    "In this lab, you will see how this entanglement becomes harder to generate with an increased number of qubits! "
   ]
  },
  {
   "cell_type": "markdown",
   "metadata": {},
   "source": [
    "## Necessary Imports"
   ]
  },
  {
   "cell_type": "code",
   "execution_count": 1,
   "metadata": {},
   "outputs": [],
   "source": [
    "#load the necessary packages and libraries\n",
    "from pyquil.quil import Program\n",
    "import pyquil.api as api\n",
    "from pyquil.gates import *\n",
    "import matplotlib.pyplot as plt\n",
    "from random import *\n",
    "import numpy as np\n",
    "import math\n",
    "\n",
    "qvm = api.QVMConnection()"
   ]
  },
  {
   "cell_type": "markdown",
   "metadata": {},
   "source": [
    "## Pyquil Notation Tricks "
   ]
  },
  {
   "cell_type": "code",
   "execution_count": 2,
   "metadata": {},
   "outputs": [],
   "source": [
    "n_qubits = 1 #Sets the number of qubits or coin flips \n",
    "\n",
    "theta = math.pi #Sets the 1-qubit gate rotation angle thetea to pi\n",
    "\n",
    "main_program = Program() #Creates a quantum circuit program \n",
    "\n",
    "main_program += H(0) #Performs a Hadamard Gate on the 0th qubit \n",
    "\n",
    "main_program += X(0) #Performs a Not Gate on the 0th qubit \n",
    "\n",
    "main_program += CNOT(0,1) #Performs a Controlled-Not Gate with 0th qubit as the control and the 1st qubit as the target\n",
    "\n",
    "main_program += RZ(theta, 0) #Performs a Pauli Z Rotation by angle theta on the 0th qubit \n",
    "\n",
    "main_program += RX(theta, 0) #Performs a Pauli X Rotation by angle theta on the 0th qubit \n",
    "\n",
    "main_program += RY(theta, 0) #Performs a Pauli Y Rotation by angle theta on the 0th qubit \n",
    "\n",
    "wave_function =  qvm.wavefunction(main_program) #Get the output quantum circuit wavefunction\n",
    "\n",
    "probs_dist    =  wave_function.get_outcome_probs()  #Get the probability distribution"
   ]
  },
  {
   "cell_type": "markdown",
   "metadata": {},
   "source": [
    "## Circuit 1: The Challenge"
   ]
  },
  {
   "cell_type": "markdown",
   "metadata": {},
   "source": [
    "Try to create the state of an equal probability for '0000' and '1111' (and zero probability for all the other states). Below is not a solution as this is very hard to generate without the help of a classical algorithm to find our optimal rotation angles to do this. This is actually a place where machine learning can help quantum! Have a go in playing around with the angles below and introduce new gates! "
   ]
  },
  {
   "cell_type": "code",
   "execution_count": 49,
   "metadata": {},
   "outputs": [
    {
     "name": "stdout",
     "output_type": "stream",
     "text": [
      "{'0000': 0.4999999999999999, '0001': 1.874699728327321e-33, '0010': 3.7982270983039195e-65, '0011': 3.0814879110195774e-33, '0100': 9.495567745759799e-66, '0101': 0.0, '0110': 9.629649721936178e-33, '0111': 1.874699728327321e-33, '1000': 1.874699728327323e-33, '1001': 0.0, '1010': 9.62964972193618e-33, '1011': 8.546010971183819e-65, '1100': 3.0814879110195774e-33, '1101': 9.495567745759799e-66, '1110': 1.874699728327323e-33, '1111': 0.4999999999999999}\n"
     ]
    }
   ],
   "source": [
    "main_program = Program() #Creates a quantum circuit program\n",
    "main_program += I(0) #Adds the 0th qubit\n",
    "main_program += I(1) #Adds the 1st qubit\n",
    "main_program += I(2) #Adds the 2nd qubit\n",
    "main_program += I(3) #Adds the 3rd qubit\n",
    "\n",
    "main_program += RY(np.pi, 0) #Performs an RY gate on the 0th qubit with angle pi\n",
    "main_program += RY(np.pi, 3) #Performs an RY gate on the 3rd qubit with angle pi\n",
    "\n",
    "\n",
    "# YY(0,1) Angle: 1\n",
    "main_program += CNOT(0,1)\n",
    "main_program += RY(np.pi,0)\n",
    "main_program += CNOT(0,1)\n",
    "\n",
    "# YY(0,2) Angle: 0.5\n",
    "main_program += CNOT(0,2)\n",
    "main_program += RY(0.5*np.pi,0)\n",
    "main_program += CNOT(0,2)\n",
    "\n",
    "# YY(0,3) Angle: 0.5\n",
    "main_program += CNOT(0,3)\n",
    "main_program += RY(0.5*np.pi,0)\n",
    "main_program += CNOT(0,3)\n",
    "\n",
    "# YY(1,2) Angle: -0.5\n",
    "main_program += CNOT(1,2)\n",
    "main_program += RY(-0.5*np.pi,1)\n",
    "main_program += CNOT(1,2)\n",
    "\n",
    "# YY(1,3) Angle: 0.5\n",
    "main_program += CNOT(1,3)\n",
    "main_program += RY(0.5*np.pi,1)\n",
    "main_program += CNOT(1,3)\n",
    "\n",
    "# YY(2,3) Angle: 0.5\n",
    "main_program += CNOT(2,3)\n",
    "main_program += RY(0.5*np.pi,2)\n",
    "main_program += CNOT(2,3)\n",
    "\n",
    "wave_function =  qvm.wavefunction(main_program) #Get the output quantum circuit wavefunction\n",
    "probs_dist    =  wave_function.get_outcome_probs()  #Get the probability distribution\n",
    "print(probs_dist)\n",
    "#NO SIMPLE SOLUTION"
   ]
  },
  {
   "cell_type": "code",
   "execution_count": null,
   "metadata": {},
   "outputs": [],
   "source": []
  }
 ],
 "metadata": {
  "kernelspec": {
   "display_name": "Python 3",
   "language": "python",
   "name": "python3"
  },
  "language_info": {
   "codemirror_mode": {
    "name": "ipython",
    "version": 3
   },
   "file_extension": ".py",
   "mimetype": "text/x-python",
   "name": "python",
   "nbconvert_exporter": "python",
   "pygments_lexer": "ipython3",
   "version": "3.7.6"
  }
 },
 "nbformat": 4,
 "nbformat_minor": 4
}
